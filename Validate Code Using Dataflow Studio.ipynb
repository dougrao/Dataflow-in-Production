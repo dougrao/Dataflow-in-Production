{
 "cells": [
  {
   "cell_type": "markdown",
   "id": "20c15a22",
   "metadata": {},
   "source": [
    "### OCI Data Science - Useful Tips\n",
    "<details>\n",
    "<summary><font size=\"2\">Check for Public Internet Access</font></summary>\n",
    "\n",
    "```python\n",
    "import requests\n",
    "response = requests.get(\"https://oracle.com\")\n",
    "assert response.status_code==200, \"Internet connection failed\"\n",
    "```\n",
    "</details>\n",
    "<details>\n",
    "<summary><font size=\"2\">Helpful Documentation </font></summary>\n",
    "<ul><li><a href=\"https://docs.cloud.oracle.com/en-us/iaas/data-science/using/data-science.htm\">Data Science Service Documentation</a></li>\n",
    "<li><a href=\"https://docs.cloud.oracle.com/iaas/tools/ads-sdk/latest/index.html\">ADS documentation</a></li>\n",
    "</ul>\n",
    "</details>\n",
    "<details>\n",
    "<summary><font size=\"2\">Typical Cell Imports and Settings for ADS</font></summary>\n",
    "\n",
    "```python\n",
    "%load_ext autoreload\n",
    "%autoreload 2\n",
    "%matplotlib inline\n",
    "\n",
    "import warnings\n",
    "warnings.filterwarnings('ignore')\n",
    "\n",
    "import logging\n",
    "logging.basicConfig(format='%(levelname)s:%(message)s', level=logging.ERROR)\n",
    "\n",
    "import ads\n",
    "from ads.dataset.factory import DatasetFactory\n",
    "from ads.automl.provider import OracleAutoMLProvider\n",
    "from ads.automl.driver import AutoML\n",
    "from ads.evaluations.evaluator import ADSEvaluator\n",
    "from ads.common.data import ADSData\n",
    "from ads.explanations.explainer import ADSExplainer\n",
    "from ads.explanations.mlx_global_explainer import MLXGlobalExplainer\n",
    "from ads.explanations.mlx_local_explainer import MLXLocalExplainer\n",
    "from ads.catalog.model import ModelCatalog\n",
    "from ads.common.model_artifact import ModelArtifact\n",
    "```\n",
    "</details>\n",
    "<details>\n",
    "<summary><font size=\"2\">Useful Environment Variables</font></summary>\n",
    "\n",
    "```python\n",
    "import os\n",
    "print(os.environ[\"NB_SESSION_COMPARTMENT_OCID\"])\n",
    "print(os.environ[\"PROJECT_OCID\"])\n",
    "print(os.environ[\"USER_OCID\"])\n",
    "print(os.environ[\"TENANCY_OCID\"])\n",
    "print(os.environ[\"NB_REGION\"])\n",
    "```\n",
    "</details>"
   ]
  },
  {
   "cell_type": "code",
   "execution_count": 1,
   "id": "efbf4424",
   "metadata": {},
   "outputs": [],
   "source": [
    "# importando a biblioteca ADS e realizando a autenticação\n",
    "import ads\n",
    "\n",
    "ads.set_auth(\"resource_principal\")"
   ]
  },
  {
   "cell_type": "code",
   "execution_count": 2,
   "id": "623a30fd",
   "metadata": {},
   "outputs": [],
   "source": [
    "import os\n",
    "\n",
    "compartment_id = os.environ.get(\"NB_SESSION_COMPARTMENT_OCID\") #identificando o compartimento da OCI em utilização\n",
    "logs_bucket_uri = \"oci://dataflow-logs1@idcci5ks1puo\" #definindo o bucket para armazenamento de logs"
   ]
  },
  {
   "cell_type": "code",
   "execution_count": 3,
   "id": "0c535ef9",
   "metadata": {},
   "outputs": [],
   "source": [
    "%load_ext dataflow.magics"
   ]
  },
  {
   "cell_type": "code",
   "execution_count": 9,
   "id": "57b015f1",
   "metadata": {},
   "outputs": [
    {
     "name": "stderr",
     "output_type": "stream",
     "text": [
      "An error was encountered:\n",
      "Invalid status code '404', opc-request-id '/16556CED278EBE9611D46F8477AF051C/888EA45D5F5E84784698DE447866B5A9' from https://dataflow.us-ashburn-1.oci.oraclecloud.com/20200129/runs with error payload: {\n",
      "  \"code\" : \"NotAuthorizedOrNotFound\",\n",
      "  \"message\" : \"Authorization failed or requested resource not found.\"\n",
      "}\n"
     ]
    }
   ],
   "source": [
    "# %activate_session -l python -c \\\n",
    "# '{\"compartmentId\": \"ocid1.compartment.oc1..aaaaaaaah2nbsmn3m5lx452t5yz2ko7fgwco7p3b5gqnoivemtjsxinkkapq\",\\\n",
    "#     \"displayName\": \"Write Data to ADW\",\\\n",
    "#     \"applicationId\": \"ocid1.dataflowapplication.oc1.iad.anuwcljrn4ty7piacu3hisrhwlz2dix3awz45ctlotjkqqiyyaythfaeoubq\", \\\n",
    "#     \"configuration\": { \\\n",
    "#         \"spark.archives\": \"oci://service-conda-packs@id19sfcrra6z/service_pack/cpu/PySpark_3.2_and_Big_Data_Service/2.0/bdspyspark32_p38_cpu_v2#conda\", \\\n",
    "#         \"spark.jars.ivy\": \"/opt/spark/work-dir/conda/.ivy2\", \\\n",
    "#         \"spark.oracle.datasource.enabled\":\"true\"\\\n",
    "#         }, \\\n",
    "#         \"privateEndpointId\":\"ocid1.dataflowprivateendpoint.oc1.iad.anuwcljtn4ty7piap5p7l6apvl6ztgdh2dlx6eugwthiw4ngnrfucgedkqcq\", \\\n",
    "#         \"maxDurationInMinutes\": 1440, \\\n",
    "#         \"idleTimeoutInMinutes\": 120 \\\n",
    "# }'"
   ]
  },
  {
   "cell_type": "code",
   "execution_count": 4,
   "id": "6a36af7b",
   "metadata": {},
   "outputs": [
    {
     "name": "stdout",
     "output_type": "stream",
     "text": [
      "Using Active Session .. ocid1.dataflowrun.oc1.iad.anuwcljrn4ty7piakfzj5ajtooy2imyblkglg7dggnkgkoahmpq5y65hgvpa\n"
     ]
    },
    {
     "data": {
      "application/vnd.jupyter.widget-view+json": {
       "model_id": "28d1329bd0684763958cbce3b69d84d2",
       "version_major": 2,
       "version_minor": 0
      },
      "text/plain": [
       "FloatProgress(value=0.0, bar_style='info', description='Progress:', layout=Layout(height='25px', width='50%'),…"
      ]
     },
     "metadata": {},
     "output_type": "display_data"
    },
    {
     "name": "stdout",
     "output_type": "stream",
     "text": [
      "Cluster is ready..\n",
      "Starting Spark application..\n"
     ]
    },
    {
     "data": {
      "text/html": [
       "<table>\n",
       "<tr><th>Session ID</th><th>Kind</th><th>State</th><th>Current session</th></tr><tr><td>ocid1.dataflowapplication.oc1.iad.anuwcljrn4ty7pian2entvm23ebu3h3kuvjeptbgs5qinvljxv6xzhm6livq</td><td>pyspark</td><td>IN_PROGRESS</td><td><a target=\"_blank\" href=\"https://console.us-phoenix-1.oraclecloud.com/data-flow/runs/details/ocid1.dataflowrun.oc1.iad.anuwcljrn4ty7piakfzj5ajtooy2imyblkglg7dggnkgkoahmpq5y65hgvpa?region=us-ashburn-1\">Dataflow Run</a></td></tr></table>"
      ],
      "text/plain": [
       "<IPython.core.display.HTML object>"
      ]
     },
     "metadata": {},
     "output_type": "display_data"
    },
    {
     "data": {
      "application/vnd.jupyter.widget-view+json": {
       "model_id": "",
       "version_major": 2,
       "version_minor": 0
      },
      "text/plain": [
       "FloatProgress(value=0.0, bar_style='info', description='Progress:', layout=Layout(height='25px', width='50%'),…"
      ]
     },
     "metadata": {},
     "output_type": "display_data"
    },
    {
     "name": "stdout",
     "output_type": "stream",
     "text": [
      "SparkSession available as 'spark'.\n",
      "SparkContext available as 'sc'.\n"
     ]
    }
   ],
   "source": [
    "%use_session -s 'ocid1.dataflowapplication.oc1.iad.anuwcljrn4ty7pian2entvm23ebu3h3kuvjeptbgs5qinvljxv6xzhm6livq'"
   ]
  },
  {
   "cell_type": "code",
   "execution_count": null,
   "id": "0d08b443",
   "metadata": {},
   "outputs": [],
   "source": []
  }
 ],
 "metadata": {
  "kernelspec": {
   "display_name": "Python [conda env:pyspark32_p38_cpu_v3]",
   "language": "python",
   "name": "conda-env-pyspark32_p38_cpu_v3-py"
  },
  "language_info": {
   "codemirror_mode": {
    "name": "ipython",
    "version": 3
   },
   "file_extension": ".py",
   "mimetype": "text/x-python",
   "name": "python",
   "nbconvert_exporter": "python",
   "pygments_lexer": "ipython3",
   "version": "3.8.16"
  }
 },
 "nbformat": 4,
 "nbformat_minor": 5
}
